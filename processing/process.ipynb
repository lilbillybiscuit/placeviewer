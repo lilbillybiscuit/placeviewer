{
 "cells": [
  {
   "cell_type": "code",
   "execution_count": 1,
   "metadata": {},
   "outputs": [],
   "source": [
    "interval=10 #seconds"
   ]
  },
  {
   "cell_type": "code",
   "execution_count": 2,
   "metadata": {},
   "outputs": [],
   "source": [
    "import datetime\n",
    "import sys\n",
    "import random\n",
    "import gzip\n",
    "import json\n",
    "from tqdm import tqdm\n",
    "import pickle"
   ]
  },
  {
   "cell_type": "code",
   "execution_count": 2,
   "metadata": {},
   "outputs": [
    {
     "name": "stdout",
     "output_type": "stream",
     "text": [
      "16567567 lines processed"
     ]
    }
   ],
   "source": [
    "data = []\n",
    "with open('place_tiles.csv', 'r') as f:\n",
    "    f.readline()\n",
    "    count=0\n",
    "    #Useless but I'm adding it for fun\n",
    "    nextcount=random.randrange(3000,20000)\n",
    "    prevcount=0\n",
    "    for line in f:\n",
    "        count+=1\n",
    "        if (prevcount+nextcount<=count):\n",
    "            sys.stdout.write(f\"\\r{count} lines processed\")\n",
    "            sys.stdout.flush()\n",
    "            prevcount=count\n",
    "            nextcount=random.randrange(3000,20000)\n",
    "        line = [x.rstrip() for x in line.split(\",\")]\n",
    "        try:\n",
    "            line[0]=datetime.datetime.strptime(line[0], '%Y-%m-%d %H:%M:%S.%f %Z')\n",
    "        except:\n",
    "            line[0]=datetime.datetime.strptime(line[0], '%Y-%m-%d %H:%M:%S %Z')\n",
    "        if (line[2]=='' or line[3]=='' or line[4]==''):\n",
    "            continue\n",
    "        line[0]=int(line[0].timestamp()*1000)\n",
    "        line[2]=int(line[2])\n",
    "        line[3]=int(line[3])\n",
    "        line[4]=int(line[4])\n",
    "        data.append(line)\n",
    "    sys.stdout.write(f\"\\r{count} lines processed\")\n",
    "    sys.stdout.flush()"
   ]
  },
  {
   "cell_type": "code",
   "execution_count": 14,
   "metadata": {},
   "outputs": [],
   "source": [
    "# import pickle\n",
    "# with open(\"data.pickle\", \"wb\") as f:\n",
    "#     pickle.dump(data, f)\n"
   ]
  },
  {
   "cell_type": "code",
   "execution_count": 3,
   "metadata": {},
   "outputs": [],
   "source": [
    "with open(\"data.pickle\", \"rb\") as f:\n",
    "    data = pickle.load(f)"
   ]
  },
  {
   "cell_type": "code",
   "execution_count": 4,
   "metadata": {},
   "outputs": [
    {
     "name": "stdout",
     "output_type": "stream",
     "text": [
      "Sorting...Done\n"
     ]
    }
   ],
   "source": [
    "print(\"Sorting...\",end=\"\")\n",
    "data.sort()\n",
    "print(\"Done\")"
   ]
  },
  {
   "cell_type": "code",
   "execution_count": 5,
   "metadata": {},
   "outputs": [],
   "source": [
    "with gzip.open('segments/1490172525.json.gz', 'rb') as f:\n",
    "    file_content=f.read().decode('utf8')"
   ]
  },
  {
   "cell_type": "code",
   "execution_count": 6,
   "metadata": {},
   "outputs": [],
   "source": [
    "hi = json.loads(file_content)"
   ]
  },
  {
   "cell_type": "code",
   "execution_count": 8,
   "metadata": {},
   "outputs": [
    {
     "data": {
      "text/plain": [
       "[{'id': 0,\n",
       "  'timems': 1490133335548,\n",
       "  'user': 'Kg7sd4cyQflqAT6w75IKeQ==',\n",
       "  'x': 500,\n",
       "  'y': 504,\n",
       "  'color': 2},\n",
       " {'id': 1,\n",
       "  'timems': 1490133347515,\n",
       "  'user': 'Kg7sd4cyQflqAT6w75IKeQ==',\n",
       "  'x': 508,\n",
       "  'y': 503,\n",
       "  'color': 2},\n",
       " {'id': 2,\n",
       "  'timems': 1490133359619,\n",
       "  'user': 'Kg7sd4cyQflqAT6w75IKeQ==',\n",
       "  'x': 509,\n",
       "  'y': 504,\n",
       "  'color': 2},\n",
       " {'id': 3,\n",
       "  'timems': 1490133373689,\n",
       "  'user': 'Kg7sd4cyQflqAT6w75IKeQ==',\n",
       "  'x': 509,\n",
       "  'y': 503,\n",
       "  'color': 2},\n",
       " {'id': 4,\n",
       "  'timems': 1490133385251,\n",
       "  'user': 'Kg7sd4cyQflqAT6w75IKeQ==',\n",
       "  'x': 509,\n",
       "  'y': 502,\n",
       "  'color': 2},\n",
       " {'id': 5,\n",
       "  'timems': 1490139263757,\n",
       "  'user': 'esKDe9vhDcHuGP5RfwFwQw==',\n",
       "  'x': 501,\n",
       "  'y': 502,\n",
       "  'color': 4},\n",
       " {'id': 6,\n",
       "  'timems': 1490139275693,\n",
       "  'user': 'esKDe9vhDcHuGP5RfwFwQw==',\n",
       "  'x': 501,\n",
       "  'y': 517,\n",
       "  'color': 5},\n",
       " {'id': 7,\n",
       "  'timems': 1490139291423,\n",
       "  'user': 'esKDe9vhDcHuGP5RfwFwQw==',\n",
       "  'x': 496,\n",
       "  'y': 502,\n",
       "  'color': 12},\n",
       " {'id': 8,\n",
       "  'timems': 1490139307891,\n",
       "  'user': 'esKDe9vhDcHuGP5RfwFwQw==',\n",
       "  'x': 499,\n",
       "  'y': 498,\n",
       "  'color': 2},\n",
       " {'id': 9,\n",
       "  'timems': 1490139322680,\n",
       "  'user': 'esKDe9vhDcHuGP5RfwFwQw==',\n",
       "  'x': 511,\n",
       "  'y': 514,\n",
       "  'color': 12},\n",
       " {'id': 10,\n",
       "  'timems': 1490144589019,\n",
       "  'user': 'esKDe9vhDcHuGP5RfwFwQw==',\n",
       "  'x': 149,\n",
       "  'y': 491,\n",
       "  'color': 2},\n",
       " {'id': 11,\n",
       "  'timems': 1490144603884,\n",
       "  'user': 'esKDe9vhDcHuGP5RfwFwQw==',\n",
       "  'x': 0,\n",
       "  'y': 0,\n",
       "  'color': 3},\n",
       " {'id': 12,\n",
       "  'timems': 1490172525177,\n",
       "  'user': 'Kg7sd4cyQflqAT6w75IKeQ==',\n",
       "  'x': 492,\n",
       "  'y': 403,\n",
       "  'color': 2},\n",
       " {'id': 13,\n",
       "  'timems': 1490172526888,\n",
       "  'user': 'Kg7sd4cyQflqAT6w75IKeQ==',\n",
       "  'x': 492,\n",
       "  'y': 404,\n",
       "  'color': 2},\n",
       " {'id': 14,\n",
       "  'timems': 1490172529287,\n",
       "  'user': 'Kg7sd4cyQflqAT6w75IKeQ==',\n",
       "  'x': 492,\n",
       "  'y': 405,\n",
       "  'color': 2},\n",
       " {'id': 15,\n",
       "  'timems': 1490172530922,\n",
       "  'user': 'Kg7sd4cyQflqAT6w75IKeQ==',\n",
       "  'x': 492,\n",
       "  'y': 406,\n",
       "  'color': 2},\n",
       " {'id': 16,\n",
       "  'timems': 1490172533003,\n",
       "  'user': 'Kg7sd4cyQflqAT6w75IKeQ==',\n",
       "  'x': 493,\n",
       "  'y': 406,\n",
       "  'color': 2}]"
      ]
     },
     "execution_count": 8,
     "metadata": {},
     "output_type": "execute_result"
    }
   ],
   "source": [
    "hi['events']"
   ]
  },
  {
   "cell_type": "code",
   "execution_count": 6,
   "metadata": {},
   "outputs": [
    {
     "data": {
      "text/plain": [
       "[[1490133335548, 'Kg7sd4cyQflqAT6w75IKeQ==', 500, 504, 2],\n",
       " [1490133347515, 'Kg7sd4cyQflqAT6w75IKeQ==', 508, 503, 2],\n",
       " [1490133359619, 'Kg7sd4cyQflqAT6w75IKeQ==', 509, 504, 2],\n",
       " [1490133373689, 'Kg7sd4cyQflqAT6w75IKeQ==', 509, 503, 2],\n",
       " [1490133385251, 'Kg7sd4cyQflqAT6w75IKeQ==', 509, 502, 2],\n",
       " [1490139263757, 'esKDe9vhDcHuGP5RfwFwQw==', 501, 502, 4],\n",
       " [1490139275693, 'esKDe9vhDcHuGP5RfwFwQw==', 501, 517, 5],\n",
       " [1490139291423, 'esKDe9vhDcHuGP5RfwFwQw==', 496, 502, 12],\n",
       " [1490139307891, 'esKDe9vhDcHuGP5RfwFwQw==', 499, 498, 2],\n",
       " [1490139322680, 'esKDe9vhDcHuGP5RfwFwQw==', 511, 514, 12],\n",
       " [1490144589019, 'esKDe9vhDcHuGP5RfwFwQw==', 149, 491, 2],\n",
       " [1490144603884, 'esKDe9vhDcHuGP5RfwFwQw==', 0, 0, 3],\n",
       " [1490172525177, 'Kg7sd4cyQflqAT6w75IKeQ==', 492, 403, 2],\n",
       " [1490172526888, 'Kg7sd4cyQflqAT6w75IKeQ==', 492, 404, 2],\n",
       " [1490172529287, 'Kg7sd4cyQflqAT6w75IKeQ==', 492, 405, 2],\n",
       " [1490172530922, 'Kg7sd4cyQflqAT6w75IKeQ==', 492, 406, 2],\n",
       " [1490172533003, 'Kg7sd4cyQflqAT6w75IKeQ==', 493, 406, 2],\n",
       " [1490172540418, 'Kg7sd4cyQflqAT6w75IKeQ==', 494, 406, 2],\n",
       " [1490172546836, 'Kg7sd4cyQflqAT6w75IKeQ==', 493, 402, 2],\n",
       " [1490172548964, 'Kg7sd4cyQflqAT6w75IKeQ==', 495, 403, 2],\n",
       " [1490172551243, 'Kg7sd4cyQflqAT6w75IKeQ==', 495, 404, 2],\n",
       " [1490172553370, 'Kg7sd4cyQflqAT6w75IKeQ==', 495, 405, 2],\n",
       " [1490172556680, 'Kg7sd4cyQflqAT6w75IKeQ==', 497, 406, 2],\n",
       " [1490172558522, 'Kg7sd4cyQflqAT6w75IKeQ==', 497, 405, 2],\n",
       " [1490172560134, 'Kg7sd4cyQflqAT6w75IKeQ==', 497, 404, 2],\n",
       " [1490172566173, 'Kg7sd4cyQflqAT6w75IKeQ==', 500, 404, 2],\n",
       " [1490172568653, 'Kg7sd4cyQflqAT6w75IKeQ==', 499, 402, 2],\n",
       " [1490172571868, 'Kg7sd4cyQflqAT6w75IKeQ==', 498, 402, 2],\n",
       " [1490172574385, 'Kg7sd4cyQflqAT6w75IKeQ==', 497, 402, 2],\n",
       " [1490172577428, 'Kg7sd4cyQflqAT6w75IKeQ==', 497, 403, 2],\n",
       " [1490172579356, 'Kg7sd4cyQflqAT6w75IKeQ==', 497, 402, 6],\n",
       " [1490172581710, 'Kg7sd4cyQflqAT6w75IKeQ==', 498, 401, 8],\n",
       " [1490172584666, 'Kg7sd4cyQflqAT6w75IKeQ==', 500, 405, 2],\n",
       " [1490172587076, 'Kg7sd4cyQflqAT6w75IKeQ==', 500, 406, 2],\n",
       " [1490172589205, 'Kg7sd4cyQflqAT6w75IKeQ==', 500, 403, 2],\n",
       " [1490172592196, 'Kg7sd4cyQflqAT6w75IKeQ==', 498, 404, 2],\n",
       " [1490172594761, 'Kg7sd4cyQflqAT6w75IKeQ==', 499, 404, 2],\n",
       " [1490172598418, 'Kg7sd4cyQflqAT6w75IKeQ==', 496, 402, 10],\n",
       " [1490172602973, 'Kg7sd4cyQflqAT6w75IKeQ==', 502, 406, 2],\n",
       " [1490172611318, 'Kg7sd4cyQflqAT6w75IKeQ==', 502, 407, 14],\n",
       " [1490172615175, 'Kg7sd4cyQflqAT6w75IKeQ==', 502, 405, 2],\n",
       " [1490172617458, 'Kg7sd4cyQflqAT6w75IKeQ==', 502, 404, 2],\n",
       " [1490172620409, 'Kg7sd4cyQflqAT6w75IKeQ==', 502, 402, 2],\n",
       " [1490172630579, 'Kg7sd4cyQflqAT6w75IKeQ==', 505, 405, 2],\n",
       " [1490172635727, 'Kg7sd4cyQflqAT6w75IKeQ==', 505, 404, 2],\n",
       " [1490172638683, 'Kg7sd4cyQflqAT6w75IKeQ==', 505, 403, 2],\n",
       " [1490172641583, 'Kg7sd4cyQflqAT6w75IKeQ==', 505, 402, 2],\n",
       " [1490172646612, 'Kg7sd4cyQflqAT6w75IKeQ==', 506, 403, 9],\n",
       " [1490172650474, 'Kg7sd4cyQflqAT6w75IKeQ==', 502, 407, 6],\n",
       " [1490172653831, 'Kg7sd4cyQflqAT6w75IKeQ==', 491, 407, 4],\n",
       " [1490172657790, 'Kg7sd4cyQflqAT6w75IKeQ==', 504, 402, 6],\n",
       " [1490172663222, 'Kg7sd4cyQflqAT6w75IKeQ==', 503, 403, 2],\n",
       " [1490172665241, 'Kg7sd4cyQflqAT6w75IKeQ==', 504, 404, 2],\n",
       " [1490172681439, 'Kg7sd4cyQflqAT6w75IKeQ==', 591, 455, 13],\n",
       " [1490172687214, 'Kg7sd4cyQflqAT6w75IKeQ==', 605, 449, 2],\n",
       " [1490172702440, 'Kg7sd4cyQflqAT6w75IKeQ==', 657, 653, 12],\n",
       " [1490172704475, 'Kg7sd4cyQflqAT6w75IKeQ==', 658, 654, 12],\n",
       " [1490172706226, 'Kg7sd4cyQflqAT6w75IKeQ==', 658, 653, 12],\n",
       " [1490172708024, 'Kg7sd4cyQflqAT6w75IKeQ==', 657, 654, 12],\n",
       " [1490172711305, 'Kg7sd4cyQflqAT6w75IKeQ==', 661, 654, 12],\n",
       " [1490172713369, 'Kg7sd4cyQflqAT6w75IKeQ==', 662, 654, 12],\n",
       " [1490172715129, 'Kg7sd4cyQflqAT6w75IKeQ==', 662, 653, 12],\n",
       " [1490172717008, 'Kg7sd4cyQflqAT6w75IKeQ==', 661, 653, 12],\n",
       " [1490172723272, 'Kg7sd4cyQflqAT6w75IKeQ==', 659, 658, 12],\n",
       " [1490172725313, 'Kg7sd4cyQflqAT6w75IKeQ==', 661, 658, 12],\n",
       " [1490172726980, 'Kg7sd4cyQflqAT6w75IKeQ==', 660, 658, 12],\n",
       " [1490172728834, 'Kg7sd4cyQflqAT6w75IKeQ==', 658, 658, 12],\n",
       " [1490172730812, 'Kg7sd4cyQflqAT6w75IKeQ==', 662, 658, 12],\n",
       " [1490172733168, 'Kg7sd4cyQflqAT6w75IKeQ==', 663, 657, 12],\n",
       " [1490172735549, 'Kg7sd4cyQflqAT6w75IKeQ==', 656, 657, 12],\n",
       " [1490172740281, 'Kg7sd4cyQflqAT6w75IKeQ==', 663, 655, 2],\n",
       " [1490172743513, 'Kg7sd4cyQflqAT6w75IKeQ==', 659, 655, 2],\n",
       " [1490172756444, 'Kg7sd4cyQflqAT6w75IKeQ==', 659, 653, 3],\n",
       " [1490172759047, 'Kg7sd4cyQflqAT6w75IKeQ==', 656, 653, 3],\n",
       " [1490172762497, 'Kg7sd4cyQflqAT6w75IKeQ==', 656, 655, 1],\n",
       " [1490172765857, 'Kg7sd4cyQflqAT6w75IKeQ==', 658, 652, 2],\n",
       " [1490172768431, 'Kg7sd4cyQflqAT6w75IKeQ==', 662, 652, 2],\n",
       " [1490172770446, 'Kg7sd4cyQflqAT6w75IKeQ==', 661, 652, 2],\n",
       " [1490172774252, 'Kg7sd4cyQflqAT6w75IKeQ==', 660, 653, 3],\n",
       " [1490172777546, 'Kg7sd4cyQflqAT6w75IKeQ==', 657, 657, 5],\n",
       " [1490172779521, 'Kg7sd4cyQflqAT6w75IKeQ==', 655, 657, 5],\n",
       " [1490172782004, 'Kg7sd4cyQflqAT6w75IKeQ==', 656, 656, 2],\n",
       " [1490172784809, 'Kg7sd4cyQflqAT6w75IKeQ==', 655, 658, 2],\n",
       " [1490172787367, 'Kg7sd4cyQflqAT6w75IKeQ==', 662, 657, 2],\n",
       " [1490172789380, 'Kg7sd4cyQflqAT6w75IKeQ==', 663, 658, 2],\n",
       " [1490172792245, 'Kg7sd4cyQflqAT6w75IKeQ==', 664, 657, 2],\n",
       " [1490172795596, 'Kg7sd4cyQflqAT6w75IKeQ==', 663, 656, 5],\n",
       " [1490172824466, 'Kg7sd4cyQflqAT6w75IKeQ==', 360, 710, 8],\n",
       " [1490172826464, 'Kg7sd4cyQflqAT6w75IKeQ==', 360, 711, 8],\n",
       " [1490172828290, 'Kg7sd4cyQflqAT6w75IKeQ==', 360, 709, 8],\n",
       " [1490172830465, 'Kg7sd4cyQflqAT6w75IKeQ==', 361, 709, 8],\n",
       " [1490172832504, 'Kg7sd4cyQflqAT6w75IKeQ==', 362, 710, 8],\n",
       " [1490172834583, 'Kg7sd4cyQflqAT6w75IKeQ==', 361, 710, 8],\n",
       " [1490172836305, 'Kg7sd4cyQflqAT6w75IKeQ==', 362, 709, 8],\n",
       " [1490172838992, 'Kg7sd4cyQflqAT6w75IKeQ==', 362, 711, 8],\n",
       " [1490172840718, 'Kg7sd4cyQflqAT6w75IKeQ==', 361, 711, 8],\n",
       " [1490172842904, 'Kg7sd4cyQflqAT6w75IKeQ==', 360, 708, 9],\n",
       " [1490172844738, 'Kg7sd4cyQflqAT6w75IKeQ==', 361, 712, 9],\n",
       " [1490172846776, 'Kg7sd4cyQflqAT6w75IKeQ==', 362, 712, 9],\n",
       " [1490172849353, 'Kg7sd4cyQflqAT6w75IKeQ==', 363, 712, 9]]"
      ]
     },
     "execution_count": 6,
     "metadata": {},
     "output_type": "execute_result"
    }
   ],
   "source": [
    "data[:100]"
   ]
  },
  {
   "cell_type": "code",
   "execution_count": 7,
   "metadata": {},
   "outputs": [],
   "source": [
    "colors = [\"#FFFFFF\",\n",
    "    \"#E4E4E4\",\n",
    "    \"#888888\",\n",
    "    \"#222222\",\n",
    "    \"#FFA7D1\",\n",
    "    \"#E50000\",\n",
    "    \"#E59500\",\n",
    "    \"#A06A42\",\n",
    "    \"#E5D900\",\n",
    "    \"#94E044\",\n",
    "    \"#02BE01\",\n",
    "    \"#00E5F0\",\n",
    "    \"#0083C7\",\n",
    "    \"#0000EA\",\n",
    "    \"#E04AFF\",\n",
    "    \"#820080\"\n",
    "]"
   ]
  },
  {
   "cell_type": "code",
   "execution_count": 8,
   "metadata": {},
   "outputs": [],
   "source": [
    "def package(field, arr, time):\n",
    "    data = dict()\n",
    "    data['field']=field\n",
    "    temp=[]\n",
    "    for i in range(len(arr)):\n",
    "        cur=arr[i]\n",
    "        temp.append({'id':i, 'timems': cur[0], 'user': cur[1], 'x': cur[2], 'y': cur[3], 'color': cur[4]})\n",
    "    data['events']=temp\n",
    "    data['sizex']=len(field)\n",
    "    data['sizey']=len(field[0])\n",
    "    data['basetime']=time\n",
    "    file = gzip.open(f\"segments/{time}.json.gz\", \"wb\")\n",
    "    file.write(json.dumps(data).encode('utf8'))\n",
    "    file.close()"
   ]
  },
  {
   "cell_type": "code",
   "execution_count": 9,
   "metadata": {},
   "outputs": [],
   "source": [
    "hardcodedstart=1490172525"
   ]
  },
  {
   "cell_type": "code",
   "execution_count": 10,
   "metadata": {},
   "outputs": [
    {
     "name": "stderr",
     "output_type": "stream",
     "text": [
      "  0%|          | 179/16567564 [00:25<661:41:33,  6.95it/s]\n"
     ]
    }
   ],
   "source": [
    "field,log=[[[0,'Unchanged']]*1000]*1000,[]\n",
    "chunk=data[0][0]//1000\n",
    "if hardcodedstart!=0: chunk=hardcodedstart\n",
    "nextchunk=chunk+interval\n",
    "chunkcount=0\n",
    "cont = True\n",
    "for i in tqdm(range(0, len(data))):\n",
    "    currow=data[i]\n",
    "    ts,user,x,y,color=currow[0]//1000,currow[1],currow[2],currow[3],currow[4]\n",
    "    while (currow[0]>nextchunk*1000):\n",
    "        if chunkcount>50:\n",
    "            cont=False\n",
    "            break\n",
    "        chunkcount+=1\n",
    "        package(field, log, chunk)\n",
    "        log=[]\n",
    "        chunk=nextchunk\n",
    "        nextchunk+=interval\n",
    "    if not cont: break\n",
    "    field[x][y]=[color, user]\n",
    "    log.append(currow)"
   ]
  },
  {
   "cell_type": "code",
   "execution_count": 6,
   "metadata": {},
   "outputs": [],
   "source": [
    "import json"
   ]
  },
  {
   "cell_type": "code",
   "execution_count": 9,
   "metadata": {},
   "outputs": [
    {
     "data": {
      "text/plain": [
       "'{\"hi\": [[0, 1], [2, 3]]}'"
      ]
     },
     "execution_count": 9,
     "metadata": {},
     "output_type": "execute_result"
    }
   ],
   "source": [
    "test = dict()\n",
    "test['hi']=[[0,1],[2,3]]\n",
    "json.dumps(test)"
   ]
  }
 ],
 "metadata": {
  "interpreter": {
   "hash": "f8e3bbdeeffc60c28fed24352626cb2d7cd3d83b52432a7c6d10d84ee667ce8c"
  },
  "kernelspec": {
   "display_name": "Python 3.8.10 ('tensorflow2')",
   "language": "python",
   "name": "python3"
  },
  "language_info": {
   "codemirror_mode": {
    "name": "ipython",
    "version": 3
   },
   "file_extension": ".py",
   "mimetype": "text/x-python",
   "name": "python",
   "nbconvert_exporter": "python",
   "pygments_lexer": "ipython3",
   "version": "3.8.10"
  },
  "orig_nbformat": 4
 },
 "nbformat": 4,
 "nbformat_minor": 2
}
